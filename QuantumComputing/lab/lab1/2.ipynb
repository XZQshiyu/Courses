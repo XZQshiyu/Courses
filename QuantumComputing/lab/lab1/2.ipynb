{
 "cells": [
  {
   "cell_type": "code",
   "execution_count": 1,
   "metadata": {},
   "outputs": [],
   "source": [
    "import numpy as npy\n",
    "from mindquantum.core import X, Y, Z, H, RX, RY, RZ\n",
    "from mindquantum.core import Circuit\n",
    "from mindquantum.simulator import Simulator"
   ]
  },
  {
   "cell_type": "code",
   "execution_count": 2,
   "metadata": {},
   "outputs": [
    {
     "name": "stdout",
     "output_type": "stream",
     "text": [
      "q0: ──Z────H────RZ(π/2)──\n",
      "shots: 1000\n",
      "Keys: q0│0.00   0.126       0.251       0.377       0.502       0.627\n",
      "────────┼───────────┴───────────┴───────────┴───────────┴───────────┴\n",
      "       0│▒▒▒▒▒▒▒▒▒▒▒▒▒▒▒▒▒▒▒▒▒▒▒▒▒▒▒▒▒▒▒▒▒▒▒▒▒▒▒▒▒▒▒▒▒▒▒▒\n",
      "        │\n",
      "       1│▓▓▓▓▓▓▓▓▓▓▓▓▓▓▓▓▓▓▓▓▓▓▓▓▓▓▓▓▓▓▓▓▓▓▓▓▓▓▓▓▓▓▓▓▓▓▓▓\n",
      "        │\n",
      "{'0': 498, '1': 502}\n"
     ]
    }
   ],
   "source": [
    "sim = Simulator('projectq', 1)\n",
    "circuit = Circuit()\n",
    "circuit += Z.on(0)\n",
    "circuit += H.on(0)\n",
    "S = RZ(npy.pi/2)\n",
    "circuit += S.on(0)\n",
    "\n",
    "print(circuit)\n",
    "\n",
    "circuit.measure(0)\n",
    "\n",
    "result = sim.sampling(circuit, shots=1000)\n",
    "print(result)"
   ]
  }
 ],
 "metadata": {
  "kernelspec": {
   "display_name": "quantum",
   "language": "python",
   "name": "python3"
  },
  "language_info": {
   "codemirror_mode": {
    "name": "ipython",
    "version": 3
   },
   "file_extension": ".py",
   "mimetype": "text/x-python",
   "name": "python",
   "nbconvert_exporter": "python",
   "pygments_lexer": "ipython3",
   "version": "3.9.7"
  }
 },
 "nbformat": 4,
 "nbformat_minor": 2
}
