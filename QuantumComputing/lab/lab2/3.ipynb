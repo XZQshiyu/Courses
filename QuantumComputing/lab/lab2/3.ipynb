{
 "cells": [
  {
   "cell_type": "code",
   "execution_count": 1,
   "metadata": {},
   "outputs": [
    {
     "name": "stderr",
     "output_type": "stream",
     "text": [
      "e:\\Anaconda\\envs\\quantum\\lib\\site-packages\\mindquantum\\simulator\\__init__.py:17: UserWarning: Unable import mqvector gpu backend due to: cannot import name '_mq_vector_gpu' from partially initialized module 'mindquantum' (most likely due to a circular import) (e:\\Anaconda\\envs\\quantum\\lib\\site-packages\\mindquantum\\__init__.py)\n",
      "  from .available_simulator import SUPPORTED_SIMULATOR\n"
     ]
    }
   ],
   "source": [
    "import numpy as npy\n",
    "from mindquantum.core import X, Y, Z, H, RX, RY, RZ, T\n",
    "from mindquantum.core import Circuit\n",
    "from mindquantum.simulator import Simulator\n",
    "from mindquantum.core import Measure"
   ]
  },
  {
   "cell_type": "code",
   "execution_count": 2,
   "metadata": {},
   "outputs": [
    {
     "name": "stdout",
     "output_type": "stream",
     "text": [
      "      ┏━━━┓       ╔═══════════════════════════════╗ ┍━━━━━━┑   \n",
      "q0: ──┨ H ┠───■───╢ PC(px=1/10, py=1/10, pz=1/10) ╟─┤ M m0 ├───\n",
      "      ┗━━━┛   ┃   ╚═══════════════════════════════╝ ┕━━━━━━┙   \n",
      "            ┏━┻━┓ ┍━━━━━━┑                                     \n",
      "q1: ────────┨╺╋╸┠─┤ M m1 ├─────────────────────────────────────\n",
      "            ┗━━━┛ ┕━━━━━━┙                                     \n"
     ]
    }
   ],
   "source": [
    "from mindquantum.core.gates import PauliChannel\n",
    "circuit = Circuit()\n",
    "circuit += H(0)\n",
    "circuit += X.on(1, 0)\n",
    "\n",
    "circuit += PauliChannel(0.1, 0.1, 0.1).on(0)\n",
    "\n",
    "# 添加测量操作\n",
    "circuit += Measure('m0').on(0)\n",
    "circuit += Measure('m1').on(1)\n",
    "\n",
    "print(circuit)"
   ]
  },
  {
   "cell_type": "code",
   "execution_count": 5,
   "metadata": {},
   "outputs": [
    {
     "name": "stdout",
     "output_type": "stream",
     "text": [
      "shots: 10000\n",
      "Keys: m1 m0│0.00   0.102       0.203       0.305       0.406       0.508\n",
      "───────────┼───────────┴───────────┴───────────┴───────────┴───────────┴\n",
      "         00│▓▓▓▓▓▓▓▓▓▓▓▓▓▓▓▓▓▓▓▓▓▓▓▓▓▓▓▓▓▓▓▓▓▓▓▓▓▓▓▓▓▓▓▓▓▓▓▓▓\n",
      "           │\n",
      "         01│▒▒▒▒▒▒▒▒▒▒▒▒▒\n",
      "           │\n",
      "         10│▒▒▒▒▒▒▒▒▒▒▒▒\n",
      "           │\n",
      "         11│▒▒▒▒▒▒▒▒▒▒▒▒▒▒▒▒▒▒▒▒▒▒▒▒▒▒▒▒▒▒▒▒▒▒▒▒▒▒▒▒▒▒▒▒▒▒▒\n",
      "           │\n",
      "{'00': 4062, '01': 1028, '10': 992, '11': 3918}\n"
     ]
    }
   ],
   "source": [
    "sim = Simulator('mqvector', circuit.n_qubits)\n",
    "shots = 10000\n",
    "result = sim.sampling(circuit, shots=shots)\n",
    "print(result)"
   ]
  },
  {
   "cell_type": "code",
   "execution_count": 5,
   "metadata": {},
   "outputs": [
    {
     "name": "stdout",
     "output_type": "stream",
     "text": [
      "<mindquantum.simulator.available_simulator._AvailableSimulator object at 0x0000027F7EA85B80>\n"
     ]
    }
   ],
   "source": [
    "from mindquantum.simulator.available_simulator import SUPPORTED_SIMULATOR\n",
    "print(SUPPORTED_SIMULATOR)"
   ]
  }
 ],
 "metadata": {
  "kernelspec": {
   "display_name": "quantum",
   "language": "python",
   "name": "python3"
  },
  "language_info": {
   "codemirror_mode": {
    "name": "ipython",
    "version": 3
   },
   "file_extension": ".py",
   "mimetype": "text/x-python",
   "name": "python",
   "nbconvert_exporter": "python",
   "pygments_lexer": "ipython3",
   "version": "3.9.7"
  }
 },
 "nbformat": 4,
 "nbformat_minor": 2
}
