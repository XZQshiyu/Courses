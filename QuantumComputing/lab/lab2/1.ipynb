{
 "cells": [
  {
   "cell_type": "code",
   "execution_count": 5,
   "metadata": {},
   "outputs": [],
   "source": [
    "import numpy as npy\n",
    "from mindquantum.core import X, Y, Z, H, RX, RY, RZ\n",
    "from mindquantum.core import Circuit\n",
    "from mindquantum.simulator import Simulator\n",
    "from mindquantum.core import Measure"
   ]
  },
  {
   "cell_type": "code",
   "execution_count": 6,
   "metadata": {},
   "outputs": [
    {
     "name": "stdout",
     "output_type": "stream",
     "text": [
      "      ┏━━━┓       ┍━━━━━━┑   \n",
      "q0: ──┨ H ┠───■───┤ M Z1 ├───\n",
      "      ┗━━━┛   ┃   ┕━━━━━━┙   \n",
      "            ┏━┻━┓ ┍━━━━━━┑   \n",
      "q1: ────────┨╺╋╸┠─┤ M Z2 ├───\n",
      "            ┗━━━┛ ┕━━━━━━┙   \n"
     ]
    }
   ],
   "source": [
    "circuit = Circuit()\n",
    "circuit += H.on(0)      # Apply H gate on the first bit\n",
    "circuit += X.on(1, 0)   # Apply CNOT gate on the second bit controlled by the first bit\n",
    "circuit += Measure('Z1').on(0)\n",
    "circuit += Measure('Z2').on(1)\n",
    "\n",
    "print(circuit)\n"
   ]
  },
  {
   "cell_type": "code",
   "execution_count": 7,
   "metadata": {},
   "outputs": [
    {
     "name": "stdout",
     "output_type": "stream",
     "text": [
      "shots: 1000\n",
      "Keys: Z2 Z1│0.00    0.13       0.261       0.391       0.521       0.651\n",
      "───────────┼───────────┴───────────┴───────────┴───────────┴───────────┴\n",
      "         00│▓▓▓▓▓▓▓▓▓▓▓▓▓▓▓▓▓▓▓▓▓▓▓▓▓▓▓▓▓▓▓▓▓▓▓▓▓▓▓▓▓▓▓▓▓▓▓▓\n",
      "           │\n",
      "         11│▒▒▒▒▒▒▒▒▒▒▒▒▒▒▒▒▒▒▒▒▒▒▒▒▒▒▒▒▒▒▒▒▒▒▒▒▒▒▒▒▒▒▒▒▒\n",
      "           │\n",
      "{'00': 521, '11': 479}\n"
     ]
    }
   ],
   "source": [
    "sim = Simulator('mqvector', circuit.n_qubits)\n",
    "shots = 1000\n",
    "result = sim.sampling(circuit, shots=shots)\n",
    "print(result)"
   ]
  }
 ],
 "metadata": {
  "kernelspec": {
   "display_name": "quantum",
   "language": "python",
   "name": "python3"
  },
  "language_info": {
   "codemirror_mode": {
    "name": "ipython",
    "version": 3
   },
   "file_extension": ".py",
   "mimetype": "text/x-python",
   "name": "python",
   "nbconvert_exporter": "python",
   "pygments_lexer": "ipython3",
   "version": "3.9.7"
  }
 },
 "nbformat": 4,
 "nbformat_minor": 2
}
