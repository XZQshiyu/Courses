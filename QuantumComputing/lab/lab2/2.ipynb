{
 "cells": [
  {
   "cell_type": "code",
   "execution_count": null,
   "metadata": {},
   "outputs": [],
   "source": [
    "import numpy as npy\n",
    "from mindquantum.core import X, Y, Z, H, RX, RY, RZ, T\n",
    "from mindquantum.core import Circuit\n",
    "from mindquantum.simulator import Simulator\n",
    "from mindquantum.core import Measure"
   ]
  },
  {
   "cell_type": "code",
   "execution_count": 4,
   "metadata": {},
   "outputs": [
    {
     "name": "stdout",
     "output_type": "stream",
     "text": [
      "q0: ──H────●────RZ(π/2)────M(m0)──\n",
      "           │\n",
      "q1: ───────X────RZ(π/4)────M(m1)──\n"
     ]
    }
   ],
   "source": [
    "circuit = Circuit()\n",
    "S = RZ(npy.pi/2)    # 创建S门\n",
    "T = RZ(npy.pi / 4)  # 创建Z门\n",
    "circuit += H.on(0)\n",
    "circuit += X.on(1, 0)\n",
    "circuit += S.on(0)\n",
    "circuit += T.on(1)\n",
    "\n",
    "circuit += Measure('m0').on(0)\n",
    "circuit += Measure('m1').on(1)\n",
    "\n",
    "print(circuit)"
   ]
  },
  {
   "cell_type": "code",
   "execution_count": 5,
   "metadata": {},
   "outputs": [
    {
     "name": "stdout",
     "output_type": "stream",
     "text": [
      "shots: 1000\n",
      "Keys: m1 m0│0.00   0.128       0.255       0.383        0.51       0.637\n",
      "───────────┼───────────┴───────────┴───────────┴───────────┴───────────┴\n",
      "         00│▒▒▒▒▒▒▒▒▒▒▒▒▒▒▒▒▒▒▒▒▒▒▒▒▒▒▒▒▒▒▒▒▒▒▒▒▒▒▒▒▒▒▒▒▒▒▒\n",
      "           │\n",
      "         11│▓▓▓▓▓▓▓▓▓▓▓▓▓▓▓▓▓▓▓▓▓▓▓▓▓▓▓▓▓▓▓▓▓▓▓▓▓▓▓▓▓▓▓▓▓▓▓▓\n",
      "           │\n",
      "{'00': 490, '11': 510}\n"
     ]
    }
   ],
   "source": [
    "sim = Simulator('projectq',  circuit.n_qubits)\n",
    "shots = 1000\n",
    "result = sim.sampling(circuit,shots=shots)\n",
    "print(result)"
   ]
  }
 ],
 "metadata": {
  "kernelspec": {
   "display_name": "quantum",
   "language": "python",
   "name": "python3"
  },
  "language_info": {
   "codemirror_mode": {
    "name": "ipython",
    "version": 3
   },
   "file_extension": ".py",
   "mimetype": "text/x-python",
   "name": "python",
   "nbconvert_exporter": "python",
   "pygments_lexer": "ipython3",
   "version": "3.9.7"
  }
 },
 "nbformat": 4,
 "nbformat_minor": 2
}
