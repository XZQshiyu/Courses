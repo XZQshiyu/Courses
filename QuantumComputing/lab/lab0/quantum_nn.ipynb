{
 "cells": [
  {
   "cell_type": "code",
   "execution_count": 1,
   "metadata": {},
   "outputs": [],
   "source": [
    "import numpy as npy\n",
    "from mindquantum.core import Circuit\n",
    "from mindquantum.core import H, RX, RY, RZ"
   ]
  },
  {
   "cell_type": "code",
   "execution_count": null,
   "metadata": {},
   "outputs": [
    {
     "name": "stdout",
     "output_type": "stream",
     "text": [
      "==================Circuit Summary==================\n",
      "|Total number of gates  : 4.                      |\n",
      "|Parameter gates        : 3.                      |\n",
      "|with 3 parameters are  : alpha0, alpha1, alpha2. |\n",
      "|Number qubit of circuit: 1                       |\n",
      "===================================================\n"
     ]
    },
    {
     "data": {
      "text/html": [
       "<pre style=\"white-space:pre;overflow-x:auto;line-height:normal;font-family:Menlo,'DejaVu Sans Mono',consolas,'Courier New',monospace\"></pre>\n"
      ],
      "text/plain": []
     },
     "metadata": {},
     "output_type": "display_data"
    },
    {
     "data": {
      "text/html": [
       "<pre style=\"white-space: pre;\"></pre>\n"
      ],
      "text/plain": [
       "q0: ──H────RX(alpha0)────RY(alpha1)────RZ(alpha2)──"
      ]
     },
     "execution_count": 2,
     "metadata": {},
     "output_type": "execute_result"
    }
   ],
   "source": [
    "# pylint: disable=W0104\n",
    "encoder = Circuit() # 初始化量子线路\n",
    "encoder += H(0) # 添加Hadamard门，作用在第0位量子比特\n",
    "encoder += RX(f'alpha{0}').on(0)\n",
    "encoder += RY(f'alpha{1}').on(0)\n",
    "encoder += RZ(f'alpha{2}').on(0)\n",
    "encoder = encoder.no_grad() # 量子线路不需要梯度\n",
    "encoder.summary()   # 打印量子线路的信息\n",
    "print(encoder)"
   ]
  },
  {
   "cell_type": "code",
   "execution_count": 3,
   "metadata": {},
   "outputs": [
    {
     "name": "stdout",
     "output_type": "stream",
     "text": [
      "(0.5669903122552596-0.1753906567580312j)¦0⟩\n",
      "(0.800814626197614+0.08034947292077024j)¦1⟩\n"
     ]
    }
   ],
   "source": [
    "alpha0, alpha1, alpha2 = 0.2, 0.3, 0.4\n",
    "state = encoder.get_qs(pr={'alpha0':alpha0, 'alpha1':alpha1, 'alpha2':alpha2}, ket=True)\n",
    "print(state)"
   ]
  },
  {
   "cell_type": "code",
   "execution_count": 5,
   "metadata": {},
   "outputs": [
    {
     "name": "stdout",
     "output_type": "stream",
     "text": [
      "q0: ──RX(theta0)────RY(theta1)──\n"
     ]
    }
   ],
   "source": [
    "ansatz = Circuit() # 初始化量子线路\n",
    "ansatz += RX(f'theta{0}').on(0)\n",
    "ansatz += RY(f'theta{1}').on(0)\n",
    "print(ansatz)"
   ]
  },
  {
   "cell_type": "code",
   "execution_count": 6,
   "metadata": {},
   "outputs": [
    {
     "name": "stdout",
     "output_type": "stream",
     "text": [
      "1¦0⟩\n"
     ]
    }
   ],
   "source": [
    "theta0, theta1 = 0, 0\n",
    "state = ansatz.get_qs(pr=dict(zip(ansatz.params_name, [theta0, theta1])), ket=True)\n",
    "print(state)"
   ]
  },
  {
   "cell_type": "code",
   "execution_count": 7,
   "metadata": {},
   "outputs": [
    {
     "name": "stdout",
     "output_type": "stream",
     "text": [
      "q0: ──H────RX(alpha0)────RY(alpha1)────RZ(alpha2)────RX(theta0)────RY(theta1)──\n"
     ]
    }
   ],
   "source": [
    "# pylint: enable=W0104\n",
    "circuit = encoder + ansatz\n",
    "print(circuit)"
   ]
  }
 ],
 "metadata": {
  "kernelspec": {
   "display_name": "quantum",
   "language": "python",
   "name": "python3"
  },
  "language_info": {
   "codemirror_mode": {
    "name": "ipython",
    "version": 3
   },
   "file_extension": ".py",
   "mimetype": "text/x-python",
   "name": "python",
   "nbconvert_exporter": "python",
   "pygments_lexer": "ipython3",
   "version": "3.9.7"
  }
 },
 "nbformat": 4,
 "nbformat_minor": 2
}
