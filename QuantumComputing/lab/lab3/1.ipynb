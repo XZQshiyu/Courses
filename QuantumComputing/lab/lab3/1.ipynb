{
 "cells": [
  {
   "cell_type": "code",
   "execution_count": 1,
   "metadata": {},
   "outputs": [],
   "source": [
    "import numpy as npy\n",
    "from mindquantum.core import H, X, S, T\n",
    "from mindquantum.core import Circuit\n",
    "from mindquantum.simulator import Simulator\n",
    "from mindquantum.core import Measure"
   ]
  },
  {
   "cell_type": "code",
   "execution_count": 2,
   "metadata": {},
   "outputs": [
    {
     "name": "stdout",
     "output_type": "stream",
     "text": [
      "      ┏━━━┓       ┍━━━━━━┑         \n",
      "q0: ──┨ H ┠───■───┤ M m0 ├─────────\n",
      "      ┗━━━┛   ┃   ┕━━━━━━┙         \n",
      "            ┏━┻━┓       ┍━━━━━━┑   \n",
      "q1: ────────┨╺╋╸┠───■───┤ M m1 ├───\n",
      "            ┗━━━┛   ┃   ┕━━━━━━┙   \n",
      "                  ┏━┻━┓ ┍━━━━━━┑   \n",
      "q2: ──────────────┨╺╋╸┠─┤ M m2 ├───\n",
      "                  ┗━━━┛ ┕━━━━━━┙   \n"
     ]
    }
   ],
   "source": [
    "circuit = Circuit()\n",
    "circuit += H.on(0)\n",
    "circuit += X.on(1, 0)\n",
    "circuit += X.on(2, 1)\n",
    "\n",
    "circuit += Measure('m0').on(0)\n",
    "circuit += Measure('m1').on(1)\n",
    "circuit += Measure('m2').on(2)\n",
    "\n",
    "print(circuit)"
   ]
  },
  {
   "cell_type": "code",
   "execution_count": 3,
   "metadata": {},
   "outputs": [
    {
     "name": "stdout",
     "output_type": "stream",
     "text": [
      "shots: 1000\n",
      "Keys: m2 m1 m0│0.00   0.129       0.258       0.387       0.516       0.645\n",
      "──────────────┼───────────┴───────────┴───────────┴───────────┴───────────┴\n",
      "           000│▒▒▒▒▒▒▒▒▒▒▒▒▒▒▒▒▒▒▒▒▒▒▒▒▒▒▒▒▒▒▒▒▒▒▒▒▒▒▒▒▒▒▒▒▒▒\n",
      "              │\n",
      "           111│▓▓▓▓▓▓▓▓▓▓▓▓▓▓▓▓▓▓▓▓▓▓▓▓▓▓▓▓▓▓▓▓▓▓▓▓▓▓▓▓▓▓▓▓▓▓▓▓\n",
      "              │\n",
      "{'000': 484, '111': 516}\n"
     ]
    }
   ],
   "source": [
    "simulator = Simulator('mqvector', circuit.n_qubits)\n",
    "shots = 1000\n",
    "result = simulator.sampling(circuit, shots=shots)\n",
    "\n",
    "print(result)"
   ]
  }
 ],
 "metadata": {
  "kernelspec": {
   "display_name": "quantum",
   "language": "python",
   "name": "python3"
  },
  "language_info": {
   "codemirror_mode": {
    "name": "ipython",
    "version": 3
   },
   "file_extension": ".py",
   "mimetype": "text/x-python",
   "name": "python",
   "nbconvert_exporter": "python",
   "pygments_lexer": "ipython3",
   "version": "3.9.7"
  }
 },
 "nbformat": 4,
 "nbformat_minor": 2
}
